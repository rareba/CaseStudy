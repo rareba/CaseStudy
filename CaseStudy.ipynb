{
 "cells": [
  {
   "cell_type": "code",
   "execution_count": 0,
   "metadata": {
    "application/vnd.databricks.v1+cell": {
     "cellMetadata": {
      "byteLimit": 2048000,
      "rowLimit": 10000
     },
     "inputWidgets": {},
     "nuid": "4d3fdb11-bdb5-4ca5-97d0-8eac22f5f14b",
     "showTitle": false,
     "title": ""
    }
   },
   "outputs": [],
   "source": [
    "import requests\n",
    "import zipfile\n",
    "import io\n",
    "import pandas as pd\n",
    "from pyspark.sql import SparkSession\n",
    "from pyspark.sql.functions import col, when, lit, unix_timestamp, radians, sin, cos, sqrt, atan2\n",
    "from pyspark.sql.types import DoubleType\n",
    "import matplotlib.pyplot as plt\n",
    "import pytz\n",
    "import math\n",
    "import numpy as np"
   ]
  },
  {
   "cell_type": "markdown",
   "metadata": {
    "application/vnd.databricks.v1+cell": {
     "cellMetadata": {
      "byteLimit": 2048000,
      "rowLimit": 10000
     },
     "inputWidgets": {},
     "nuid": "145f50e6-26f8-44e9-815a-efe5dd84e7e9",
     "showTitle": false,
     "title": ""
    }
   },
   "source": [
    "### Step 1: Download and Prepare Data\n",
    "In this step, we download the Citi Bike data for the specified month, which is compressed in a ZIP file. We then extract the CSV files from the ZIP file and load each into a Pandas DataFrame. During this process, we:\n",
    "- Drop the unnecessary \"Unnamed: 0\" column.\n",
    "- Convert the `started_at` and `ended_at` timestamp columns to the correct timezone (New York).\n",
    "- Combine all the individual DataFrames into a single PySpark DataFrame\n",
    "- Make sure that the dataframe has only the relevant columns\n",
    "- Drop eventual duplicates"
   ]
  },
  {
   "cell_type": "code",
   "execution_count": 0,
   "metadata": {
    "application/vnd.databricks.v1+cell": {
     "cellMetadata": {
      "byteLimit": 2048000,
      "rowLimit": 10000
     },
     "inputWidgets": {},
     "nuid": "82de6894-1f05-4884-bd2d-2771aca57867",
     "showTitle": false,
     "title": ""
    }
   },
   "outputs": [
    {
     "output_type": "stream",
     "name": "stdout",
     "output_type": "stream",
     "text": [
      "ZIP file downloaded and opened in memory\n"
     ]
    }
   ],
   "source": [
    "# Download the ZIP file containing the data\n",
    "# Explanation: We download the zip file into memory for further processing\n",
    "url = \"https://s3.amazonaws.com/tripdata/202407-citibike-tripdata.zip\"\n",
    "response = requests.get(url)\n",
    "zip_file = zipfile.ZipFile(io.BytesIO(response.content))\n",
    "print(\"ZIP file downloaded and opened in memory\")"
   ]
  },
  {
   "cell_type": "code",
   "execution_count": 0,
   "metadata": {
    "application/vnd.databricks.v1+cell": {
     "cellMetadata": {
      "byteLimit": 2048000,
      "rowLimit": 10000
     },
     "inputWidgets": {},
     "nuid": "216d1058-65c8-43e9-ba5c-407c34534f3f",
     "showTitle": false,
     "title": ""
    }
   },
   "outputs": [
    {
     "output_type": "stream",
     "name": "stdout",
     "output_type": "stream",
     "text": [
      "Loaded and processed file: 202407-citibike-tripdata_1.csv\nLoaded and processed file: 202407-citibike-tripdata_2.csv\nLoaded and processed file: 202407-citibike-tripdata_3.csv\nLoaded and processed file: 202407-citibike-tripdata_4.csv\nLoaded and processed file: 202407-citibike-tripdata_5.csv\nAll CSV files combined into a single DataFrame\nDuplicates removed based on 'ride_id'\n"
     ]
    }
   ],
   "source": [
    "# Extract CSV files from the ZIP and process them\n",
    "# Explanation: Each CSV is read, unnecessary columns are dropped, and timestamps are converted to New York timezone\n",
    "dataframes = []\n",
    "ny_tz = pytz.timezone('America/New_York')\n",
    "\n",
    "for file_name in zip_file.namelist():\n",
    "    if file_name.endswith('.csv'):\n",
    "        with zip_file.open(file_name) as file:\n",
    "            pdf = pd.read_csv(io.TextIOWrapper(file, 'utf-8'), dtype={'end_station_id': str, 'start_station_id': str})\n",
    "            \n",
    "            # Drop unnecessary columns\n",
    "            if 'Unnamed: 0' in pdf.columns:\n",
    "                pdf = pdf.drop(columns=[\"Unnamed: 0\"])\n",
    "            \n",
    "            # Convert timestamps to New York timezone\n",
    "            pdf['started_at'] = pd.to_datetime(pdf['started_at'], errors='coerce', format='%Y-%m-%d %H:%M:%S.%f').dt.tz_localize('UTC').dt.tz_convert(ny_tz)\n",
    "            pdf['ended_at'] = pd.to_datetime(pdf['ended_at'], errors='coerce', format='%Y-%m-%d %H:%M:%S.%f').dt.tz_localize('UTC').dt.tz_convert(ny_tz)\n",
    "\n",
    "            # Convert to PySpark DataFrame\n",
    "            df = spark.createDataFrame(pdf)\n",
    "            dataframes.append(df)\n",
    "        print(f\"Loaded and processed file: {file_name}\")\n",
    "\n",
    "# Combine all DataFrames into one\n",
    "# Explanation: Multiple DataFrames are combined into a single one for further analysis\n",
    "if len(dataframes) > 1:\n",
    "    df = dataframes[0]\n",
    "    for other_df in dataframes[1:]:\n",
    "        df = df.union(other_df)\n",
    "else:\n",
    "    df = dataframes[0]\n",
    "print(\"All CSV files combined into a single DataFrame\")\n",
    "\n",
    "# Select only the relevant columns\n",
    "# Explanation: Retain only the relevant columns for the analysis before removing duplicates\n",
    "relevant_columns = [\n",
    "    'ride_id', 'rideable_type', 'started_at', 'ended_at', 'start_station_name', \n",
    "    'start_station_id', 'end_station_name', 'end_station_id', 'start_lat', \n",
    "    'start_lng', 'end_lat', 'end_lng', 'member_casual'\n",
    "]\n",
    "df = df.select(relevant_columns)\n",
    "print(\"Filtered DataFrame to include only relevant columns\")\n",
    "\n",
    "# Drop duplicate rows based on 'ride_id'\n",
    "df = df.dropDuplicates([\"ride_id\"])\n",
    "print(\"Duplicates removed based on 'ride_id'\")"
   ]
  },
  {
   "cell_type": "markdown",
   "metadata": {
    "application/vnd.databricks.v1+cell": {
     "cellMetadata": {
      "byteLimit": 2048000,
      "rowLimit": 10000
     },
     "inputWidgets": {},
     "nuid": "e0f117db-495d-477e-852c-252e97e822f1",
     "showTitle": false,
     "title": ""
    }
   },
   "source": [
    "### Step 2: Ride Duration and Revenue Analysis\n",
    "In this step, we calculate the duration of each ride in minutes by subtracting the start time from the end time. We then filter out rides that last more than 30 minutes and calculate the potential revenue. If we were to charge $0.20 for every ride over 30 minutes, this is the revenue we could expect."
   ]
  },
  {
   "cell_type": "code",
   "execution_count": 0,
   "metadata": {
    "application/vnd.databricks.v1+cell": {
     "cellMetadata": {
      "byteLimit": 2048000,
      "rowLimit": 10000
     },
     "inputWidgets": {},
     "nuid": "4892c252-d214-4881-8b61-edc7578844e2",
     "showTitle": false,
     "title": ""
    }
   },
   "outputs": [
    {
     "output_type": "stream",
     "name": "stdout",
     "output_type": "stream",
     "text": [
      "Ride duration calculated correctly in minutes\nNumber of trips longer than 30 minutes: 382046\nPotential Revenue: $76409.20\n"
     ]
    }
   ],
   "source": [
    "# Calculate ride duration in minutes\n",
    "# Explanation: The duration of each ride is calculated in minutes using the Unix timestamp of start and end times\n",
    "df = df.withColumn(\"ride_duration\", (unix_timestamp(col(\"ended_at\")) - unix_timestamp(col(\"started_at\"))) / 60)\n",
    "print(\"Ride duration calculated correctly in minutes\")\n",
    "\n",
    "# Filter rides longer than 30 minutes and calculate potential revenue\n",
    "# Explanation: We filter out rides that last more than 30 minutes and calculate the potential revenue based on a charge of $0.2 per ride\n",
    "long_rides = df.filter(col(\"ride_duration\") > 30)\n",
    "potential_revenue = long_rides.count() * 0.2\n",
    "print(f\"Number of trips longer than 30 minutes: {long_rides.count()}\")\n",
    "print(f\"Potential Revenue: ${potential_revenue:.2f}\")"
   ]
  },
  {
   "cell_type": "markdown",
   "metadata": {
    "application/vnd.databricks.v1+cell": {
     "cellMetadata": {
      "byteLimit": 2048000,
      "rowLimit": 10000
     },
     "inputWidgets": {},
     "nuid": "7e84a284-53fe-474d-8e48-4ff4e5391ad5",
     "showTitle": false,
     "title": ""
    }
   },
   "source": [
    "### Step 3: Calculate Distances\n",
    "Using the Haversine formula, we calculate the great-circle distance between the start and end points of each ride. This distance is computed in kilometers and added as a new column to the DataFrame.\n",
    "\n",
    "### Haversine Formula\n",
    "\n",
    "The Haversine formula is used to calculate the distance between two points on the surface of a sphere, given their latitudes and longitudes. The formula is expressed as follows:\n",
    "\n",
    "$$\n",
    "d = 2R \\cdot \\arcsin\\left(\\sqrt{\\sin^2\\left(\\frac{\\Delta \\phi}{2}\\right) + \\cos(\\phi_1) \\cdot \\cos(\\phi_2) \\cdot \\sin^2\\left(\\frac{\\Delta \\lambda}{2}\\right)}\\right)\n",
    "$$\n",
    "\n",
    "where:\n",
    "\n",
    "- \\( d \\) is the distance between the two points (along the surface of the sphere),\n",
    "- \\( R \\) is the radius of the Earth (approximately 6371 km),\n",
    "- \\( \\phi_1 \\) and \\( \\phi_2 \\) are the latitudes of the first and second points (in radians),\n",
    "- \\( \\lambda_1 \\) and \\( \\lambda_2 \\) are the longitudes of the first and second points (in radians),\n",
    "- \\( \\Delta \\phi = \\phi_2 - \\phi_1 \\) is the difference in latitude,\n",
    "- \\( \\Delta \\lambda = \\lambda_2 - \\lambda_1 \\) is the difference in longitude.\n",
    "\n",
    "The formula can be broken down into intermediate steps:\n",
    "\n",
    "$$\n",
    "a = \\sin^2\\left(\\frac{\\Delta \\phi}{2}\\right) + \\cos(\\phi_1) \\cdot \\cos(\\phi_2) \\cdot \\sin^2\\left(\\frac{\\Delta \\lambda}{2}\\right)\n",
    "$$\n",
    "\n",
    "$$\n",
    "c = 2 \\cdot \\arctan2\\left(\\sqrt{a}, \\sqrt{1-a}\\right)\n",
    "$$\n",
    "\n",
    "$$\n",
    "d = R \\cdot c\n",
    "$$"
   ]
  },
  {
   "cell_type": "code",
   "execution_count": 0,
   "metadata": {
    "application/vnd.databricks.v1+cell": {
     "cellMetadata": {
      "byteLimit": 2048000,
      "rowLimit": 10000
     },
     "inputWidgets": {},
     "nuid": "ae997fc6-6c9a-4d86-be6e-15959f918c1d",
     "showTitle": false,
     "title": ""
    }
   },
   "outputs": [],
   "source": [
    "# Explanation: Calculate the Haversine distance directly without creating multiple intermediate columns.\n",
    "# This improves performance by reducing the number of DataFrame transformations.\n",
    "\n",
    "# Define the Earth's radius in kilometers\n",
    "R = 6371.0\n",
    "\n",
    "# Perform the Haversine calculation\n",
    "df = df.withColumn(\n",
    "    \"distance_km\",\n",
    "    2 * lit(R) * atan2(\n",
    "        sqrt(\n",
    "            sin(radians(col(\"end_lat\") - col(\"start_lat\")) / 2) ** 2\n",
    "            + cos(radians(col(\"start_lat\"))) * cos(radians(col(\"end_lat\")))\n",
    "            * sin(radians(col(\"end_lng\") - col(\"start_lng\")) / 2) ** 2\n",
    "        ),\n",
    "        sqrt(\n",
    "            1 - (\n",
    "                sin(radians(col(\"end_lat\") - col(\"start_lat\")) / 2) ** 2\n",
    "                + cos(radians(col(\"start_lat\"))) * cos(radians(col(\"end_lat\")))\n",
    "                * sin(radians(col(\"end_lng\") - col(\"start_lng\")) / 2) ** 2\n",
    "            )\n",
    "        )\n",
    "    )\n",
    ")\n",
    "\n",
    "# Print sample data with calculated distance\n",
    "#df.select(\"start_lat\", \"start_lng\", \"end_lat\", \"end_lng\", \"distance_km\").show(5)"
   ]
  },
  {
   "cell_type": "markdown",
   "metadata": {
    "application/vnd.databricks.v1+cell": {
     "cellMetadata": {
      "byteLimit": 2048000,
      "rowLimit": 10000
     },
     "inputWidgets": {},
     "nuid": "0c910edd-5b80-429f-a3ff-f6e5c88ce3e9",
     "showTitle": false,
     "title": ""
    }
   },
   "source": [
    "### Step 4: Distance Bucket Analysis and Visualization\n",
    "To better understand how far people are riding, we categorize the trips into distance buckets: 0-1 km, 2-4 km, 4-9 km, and 10+ km. We then count the number of trips in each bucket. The distribution of these trips is visualized in a bar chart to provide insights into the most common trip distances."
   ]
  },
  {
   "cell_type": "code",
   "execution_count": 0,
   "metadata": {
    "application/vnd.databricks.v1+cell": {
     "cellMetadata": {
      "byteLimit": 2048000,
      "rowLimit": 10000
     },
     "inputWidgets": {},
     "nuid": "7c9c1999-622a-4a67-b1c6-63edd1c889ab",
     "showTitle": false,
     "title": ""
    }
   },
   "outputs": [
    {
     "output_type": "stream",
     "name": "stdout",
     "output_type": "stream",
     "text": [
      "+---------------+-------+\n|distance_bucket|  count|\n+---------------+-------+\n|         0-1 km|1443022|\n|         10+ km|  43263|\n|         2-4 km|2659512|\n|         4-9 km| 577099|\n+---------------+-------+\n\n"
     ]
    },
    {
     "output_type": "display_data",
     "data": {
      "image/png": "[encoded data removed]",
      "text/plain": [
       "<Figure size 1400x800 with 1 Axes>"
      ]
     },
     "metadata": {},
     "output_type": "display_data"
    }
   ],
   "source": [
    "# Analyze distance buckets\n",
    "# Explanation: Rides are categorized into distance buckets for easier analysis and visualization\n",
    "df = df.withColumn(\"distance_bucket\", \n",
    "                   when(col(\"distance_km\") <= 1, lit(\"0-1 km\"))\n",
    "                   .when((col(\"distance_km\") > 1) & (col(\"distance_km\") <= 4), lit(\"2-4 km\"))\n",
    "                   .when((col(\"distance_km\") > 4) & (col(\"distance_km\") <= 9), lit(\"4-9 km\"))\n",
    "                   .otherwise(lit(\"10+ km\")))\n",
    "\n",
    "# Group by distance bucket and count the number of trips in each bucket\n",
    "# Explanation: We group the data by distance bucket and count the number of rides in each bucket\n",
    "distance_distribution = df.groupBy(\"distance_bucket\").count().orderBy(\"distance_bucket\")\n",
    "distance_distribution.show()\n",
    "\n",
    "# Convert to Pandas DataFrame for plotting\n",
    "# Explanation: Convert the grouped data into a Pandas DataFrame for easier plotting with Matplotlib\n",
    "pd_distribution = distance_distribution.toPandas()\n",
    "\n",
    "# Sort data for a smooth color gradient\n",
    "pd_distribution = pd_distribution.sort_values(by='distance_bucket')\n",
    "\n",
    "# Define colors for the bars using a gradient\n",
    "colors = plt.cm.viridis(np.linspace(0, 1, len(pd_distribution)))\n",
    "\n",
    "# Plotting the distribution of trips across distance buckets\n",
    "plt.figure(figsize=(14, 8))\n",
    "bars = plt.bar(pd_distribution['distance_bucket'], pd_distribution['count'], color=colors, edgecolor='black')\n",
    "\n",
    "# Adding title and labels with improved styling\n",
    "plt.title('Distribution of Citi Bike Trips by Distance Buckets', fontsize=18, fontweight='bold', color='#333333')\n",
    "plt.xlabel('Distance Bucket (km)', fontsize=15, fontweight='bold', color='#333333')\n",
    "plt.ylabel('Number of Trips', fontsize=15, fontweight='bold', color='#333333')\n",
    "\n",
    "# Add gridlines for better readability\n",
    "plt.grid(True, axis='y', linestyle='--', alpha=0.5)\n",
    "\n",
    "# Adding value labels on top of the bars\n",
    "for bar in bars:\n",
    "    yval = bar.get_height()\n",
    "    plt.text(bar.get_x() + bar.get_width()/2, yval + 100, int(yval), ha='center', va='bottom', fontsize=12, fontweight='bold', color='#333333')\n",
    "\n",
    "# Customizing the ticks\n",
    "plt.xticks(fontsize=13, fontweight='bold', color='#333333')\n",
    "plt.yticks(fontsize=13, fontweight='bold', color='#333333')\n",
    "\n",
    "# Remove the top and right spines for a cleaner look\n",
    "plt.gca().spines['top'].set_visible(False)\n",
    "plt.gca().spines['right'].set_visible(False)\n",
    "\n",
    "# Show the plot\n",
    "plt.show()"
   ]
  }
 ],
 "metadata": {
  "application/vnd.databricks.v1+notebook": {
   "dashboards": [],
   "environmentMetadata": {
    "base_environment": "",
    "client": "1"
   },
   "language": "python",
   "notebookMetadata": {
    "pythonIndentUnit": 4
   },
   "notebookName": "CaseStudy",
   "widgets": {}
  }
 },
 "nbformat": 4,
 "nbformat_minor": 0
}
